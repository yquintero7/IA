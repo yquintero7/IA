{
 "cells": [
  {
   "cell_type": "code",
   "execution_count": 3,
   "metadata": {
    "collapsed": false
   },
   "outputs": [],
   "source": [
    "from numpy import loadtxt, zeros, ones, array, linspace, logspace, mean, std, arange\n",
    "from mpl_toolkits.mplot3d import Axes3D\n",
    "import matplotlib.pyplot as plt\n",
    "from pylab import plot, show, xlabel, ylabel\n",
    "\n",
    "#Evaluate the linear regression\n",
    "\n",
    "def feature_normalize(X):\n",
    "    '''\n",
    "    Returns a normalized version of X where\n",
    "    the mean value of each feature is 0 and the standard deviation\n",
    "    is 1. This is often a good preprocessing step to do when\n",
    "    working with learning algorithms.\n",
    "    '''\n",
    "    mean_r = []\n",
    "    std_r = []\n",
    "    \n",
    "\n",
    "    X_norm = X #asigna los datos de X a x_norm\n",
    "\n",
    "    n_c = X.shape[1] #columna 0 y 1\n",
    "    print(\"shape\",n_c) \n",
    "    for i in range(n_c):\n",
    "        m = mean(X[:, i]) #funcion media para los datos que estan en el rango de n_c\n",
    "        s = std(X[:, i]) ##funcion desv. estandar para los datos que estan en el rango de n_c\n",
    "        mean_r.append(m)\n",
    "        std_r.append(s)        \n",
    "        X_norm[:, i] = (X_norm[:, i] - m) / s\n",
    "    return X_norm, mean_r, std_r\n",
    "#imprime m\n",
    "#print(mean_r)\n",
    "#print(std_r)"
   ]
  },
  {
   "cell_type": "code",
   "execution_count": 4,
   "metadata": {
    "collapsed": false
   },
   "outputs": [],
   "source": [
    "\n",
    "def compute_cost(X, y, theta):\n",
    "    '''\n",
    "    Comput cost for linear regression\n",
    "    '''\n",
    "    #Number of training samples\n",
    "    m = y.size\n",
    "    \n",
    "    predictions = X.dot(theta)\n",
    "    sqErrors = (predictions - y)\n",
    "\n",
    "    J = (1.0 / (2 * m)) * sqErrors.T.dot(sqErrors)    \n",
    "    return J\n"
   ]
  },
  {
   "cell_type": "code",
   "execution_count": 5,
   "metadata": {
    "collapsed": false
   },
   "outputs": [],
   "source": [
    "def gradient_descent(X, y, theta, alpha, num_iters):\n",
    "    '''\n",
    "    Performs gradient descent to learn theta\n",
    "    by taking num_items gradient steps with learning\n",
    "    rate alpha\n",
    "    '''\n",
    "    m = y.size\n",
    "    \n",
    "    J_history = zeros(shape=(num_iters, 1))\n",
    "\n",
    "    for i in range(num_iters):\n",
    "\n",
    "        predictions = X.dot(theta)\n",
    "\n",
    "        theta_size = theta.size\n",
    "        \n",
    "        for it in range(theta_size):\n",
    "            temp = X[:, it]\n",
    "            temp.shape = (m, 1)\n",
    "            #print (theta)\n",
    "            errors_x1 = (predictions - y) * temp\n",
    "            theta[it][0] = theta[it][0] - alpha * (1.0 / m) * errors_x1.sum()\n",
    "\n",
    "        J_history[i, 0] = compute_cost(X, y, theta)\n",
    "\n",
    "    return theta, J_history\n",
    "##print(J_history)  \n",
    "##print(theta)"
   ]
  },
  {
   "cell_type": "code",
   "execution_count": 6,
   "metadata": {
    "collapsed": false
   },
   "outputs": [
    {
     "ename": "IOError",
     "evalue": "[Errno 2] No such file or directory: '/Users/javiersuarez/FUP/MLA/data.txt'",
     "output_type": "error",
     "traceback": [
      "\u001b[1;31m---------------------------------------------------------------------------\u001b[0m",
      "\u001b[1;31mIOError\u001b[0m                                   Traceback (most recent call last)",
      "\u001b[1;32m<ipython-input-6-94a54de8332d>\u001b[0m in \u001b[0;36m<module>\u001b[1;34m()\u001b[0m\n\u001b[0;32m      7\u001b[0m \u001b[0mdirdata\u001b[0m \u001b[1;33m=\u001b[0m \u001b[1;34m'/Users/javiersuarez/FUP/MLA/data.txt'\u001b[0m\u001b[1;33m\u001b[0m\u001b[0m\n\u001b[0;32m      8\u001b[0m \u001b[1;31m#'C:/Users/CASA/Desktop/reci/inteligencia/dataset2.txt'\u001b[0m\u001b[1;33m\u001b[0m\u001b[1;33m\u001b[0m\u001b[0m\n\u001b[1;32m----> 9\u001b[1;33m \u001b[0mdata\u001b[0m \u001b[1;33m=\u001b[0m \u001b[0mloadtxt\u001b[0m\u001b[1;33m(\u001b[0m\u001b[0mdirdata\u001b[0m\u001b[1;33m,\u001b[0m \u001b[0mdelimiter\u001b[0m\u001b[1;33m=\u001b[0m\u001b[1;34m','\u001b[0m\u001b[1;33m)\u001b[0m\u001b[1;33m\u001b[0m\u001b[0m\n\u001b[0m\u001b[0;32m     10\u001b[0m \u001b[1;33m\u001b[0m\u001b[0m\n\u001b[0;32m     11\u001b[0m \u001b[1;31m#Plot the data\u001b[0m\u001b[1;33m\u001b[0m\u001b[1;33m\u001b[0m\u001b[0m\n",
      "\u001b[1;32mC:\\Anaconda2\\lib\\site-packages\\numpy\\lib\\npyio.pyc\u001b[0m in \u001b[0;36mloadtxt\u001b[1;34m(fname, dtype, comments, delimiter, converters, skiprows, usecols, unpack, ndmin)\u001b[0m\n\u001b[0;32m    799\u001b[0m                 \u001b[0mfh\u001b[0m \u001b[1;33m=\u001b[0m \u001b[0miter\u001b[0m\u001b[1;33m(\u001b[0m\u001b[0mbz2\u001b[0m\u001b[1;33m.\u001b[0m\u001b[0mBZ2File\u001b[0m\u001b[1;33m(\u001b[0m\u001b[0mfname\u001b[0m\u001b[1;33m)\u001b[0m\u001b[1;33m)\u001b[0m\u001b[1;33m\u001b[0m\u001b[0m\n\u001b[0;32m    800\u001b[0m             \u001b[1;32melif\u001b[0m \u001b[0msys\u001b[0m\u001b[1;33m.\u001b[0m\u001b[0mversion_info\u001b[0m\u001b[1;33m[\u001b[0m\u001b[1;36m0\u001b[0m\u001b[1;33m]\u001b[0m \u001b[1;33m==\u001b[0m \u001b[1;36m2\u001b[0m\u001b[1;33m:\u001b[0m\u001b[1;33m\u001b[0m\u001b[0m\n\u001b[1;32m--> 801\u001b[1;33m                 \u001b[0mfh\u001b[0m \u001b[1;33m=\u001b[0m \u001b[0miter\u001b[0m\u001b[1;33m(\u001b[0m\u001b[0mopen\u001b[0m\u001b[1;33m(\u001b[0m\u001b[0mfname\u001b[0m\u001b[1;33m,\u001b[0m \u001b[1;34m'U'\u001b[0m\u001b[1;33m)\u001b[0m\u001b[1;33m)\u001b[0m\u001b[1;33m\u001b[0m\u001b[0m\n\u001b[0m\u001b[0;32m    802\u001b[0m             \u001b[1;32melse\u001b[0m\u001b[1;33m:\u001b[0m\u001b[1;33m\u001b[0m\u001b[0m\n\u001b[0;32m    803\u001b[0m                 \u001b[0mfh\u001b[0m \u001b[1;33m=\u001b[0m \u001b[0miter\u001b[0m\u001b[1;33m(\u001b[0m\u001b[0mopen\u001b[0m\u001b[1;33m(\u001b[0m\u001b[0mfname\u001b[0m\u001b[1;33m)\u001b[0m\u001b[1;33m)\u001b[0m\u001b[1;33m\u001b[0m\u001b[0m\n",
      "\u001b[1;31mIOError\u001b[0m: [Errno 2] No such file or directory: '/Users/javiersuarez/FUP/MLA/data.txt'"
     ]
    }
   ],
   "source": [
    "#Load the dataset\n",
    "%matplotlib inline\n",
    "from numpy import loadtxt, zeros, ones, array, linspace, logspace, mean, std, arange\n",
    "from mpl_toolkits.mplot3d import Axes3D\n",
    "import matplotlib.pyplot as plt\n",
    "from pylab import plot, show, xlabel, ylabel\n",
    "dirdata = '/Users/javiersuarez/FUP/MLA/data.txt'\n",
    "#'C:/Users/CASA/Desktop/reci/inteligencia/dataset2.txt'\n",
    "data = loadtxt(dirdata, delimiter=',')\n",
    "\n",
    "#Plot the data\n",
    "\n",
    "fig = plt.figure()\n",
    "ax = fig.add_subplot(111, projection='3d')\n",
    "n = 100\n",
    "for c, m, zl, zh in [('r', 'o', -50, -25)]:\n",
    "    xs = data[:, 0]\n",
    "    ys = data[:, 1]\n",
    "    zs = data[:, 2]\n",
    "    ax.scatter(xs, ys, zs, c=c, marker=m)\n",
    "ax.set_xlabel('Size of the House')\n",
    "ax.set_ylabel('Number of Bedrooms')\n",
    "ax.set_zlabel('Price of the House')\n",
    "plt.show()\n",
    "\n",
    "X = data[:, :2]\n",
    "y = data[:, 2]\n",
    "\n",
    "##print(X)\n",
    "##print(y)"
   ]
  },
  {
   "cell_type": "code",
   "execution_count": null,
   "metadata": {
    "collapsed": false
   },
   "outputs": [],
   "source": [
    "#imprime el dataset\n",
    "#print(data)"
   ]
  },
  {
   "cell_type": "code",
   "execution_count": null,
   "metadata": {
    "collapsed": false
   },
   "outputs": [],
   "source": [
    "#number of training samples \n",
    "#tamaño de la columna y\n",
    "m = y.size\n",
    "#tamaño de x porque toma dos columnas\n",
    "Xw=X.size\n",
    "#tamaño de todo el dataset\n",
    "c=data.size #=141\n",
    "y.shape = (m, 1)\n",
    "#print(Xw)\n",
    "print(m)\n",
    "#print(c)\n",
    "print(y.shape)"
   ]
  },
  {
   "cell_type": "code",
   "execution_count": null,
   "metadata": {
    "collapsed": false
   },
   "outputs": [],
   "source": [
    "#Scale features and set them to zero mean\n",
    "x, mean_r, std_r = feature_normalize(X)\n",
    "#print(feature_normalize(X))\n"
   ]
  },
  {
   "cell_type": "code",
   "execution_count": null,
   "metadata": {
    "collapsed": false
   },
   "outputs": [],
   "source": [
    "#Add a column of ones to X (interception data)\n",
    "it = ones(shape=(m, 3))\n",
    "it[:, 1:3] = x\n",
    "#print(it)\n",
    "#print(it[:, 1:3])"
   ]
  },
  {
   "cell_type": "code",
   "execution_count": null,
   "metadata": {
    "collapsed": false
   },
   "outputs": [],
   "source": [
    "#Some gradient descent settings\n",
    "iterations = 50\n",
    "alpha = 0.1\n",
    "\n",
    "#Init Theta and Run Gradient Descent\n",
    "theta = zeros(shape=(3, 1))"
   ]
  },
  {
   "cell_type": "code",
   "execution_count": null,
   "metadata": {
    "collapsed": false,
    "scrolled": false
   },
   "outputs": [],
   "source": [
    "theta, J_history = gradient_descent(it, y, theta, alpha, iterations)\n",
    "print (\"Theta result:\",theta) \n",
    "\n",
    "plot(arange(iterations), J_history)\n",
    "xlabel('Iterations')\n",
    "ylabel('Cost Function')\n",
    "show()\n"
   ]
  },
  {
   "cell_type": "code",
   "execution_count": null,
   "metadata": {
    "collapsed": false
   },
   "outputs": [],
   "source": [
    "#Predict price of a 1650 sq-ft 3 br house\n",
    "price = array([1.0,   ((1650.0 - mean_r[0]) / std_r[0]), ((3 - mean_r[1]) / std_r[1])]).dot(theta)\n",
    "print 'Predicted price of a 1650 sq-ft, 3 br house: %i Eur' % (price)"
   ]
  },
  {
   "cell_type": "code",
   "execution_count": null,
   "metadata": {
    "collapsed": true
   },
   "outputs": [],
   "source": [
    "def precio_predecir(x1, x2):\n",
    "    price = array([1.0,   ((x1 - mean_r[0]) / std_r[0]), ((x2 - mean_r[1]) / std_r[1])]).dot(theta)\n",
    "    \n",
    "    print 'Predicted price of a %f sq-ft, %f br house: %i' % (x1,x2,price)\n",
    "    \n",
    "    return price\n",
    "\n"
   ]
  },
  {
   "cell_type": "code",
   "execution_count": null,
   "metadata": {
    "collapsed": false
   },
   "outputs": [],
   "source": [
    "x1=2050\n",
    "x2=10\n",
    "precio_predecir(x1,x2)"
   ]
  },
  {
   "cell_type": "code",
   "execution_count": null,
   "metadata": {
    "collapsed": true
   },
   "outputs": [],
   "source": []
  }
 ],
 "metadata": {
  "kernelspec": {
   "display_name": "Python 2",
   "language": "python",
   "name": "python2"
  },
  "language_info": {
   "codemirror_mode": {
    "name": "ipython",
    "version": 2
   },
   "file_extension": ".py",
   "mimetype": "text/x-python",
   "name": "python",
   "nbconvert_exporter": "python",
   "pygments_lexer": "ipython2",
   "version": "2.7.11"
  }
 },
 "nbformat": 4,
 "nbformat_minor": 0
}
